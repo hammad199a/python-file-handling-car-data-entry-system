{
  "nbformat": 4,
  "nbformat_minor": 0,
  "metadata": {
    "colab": {
      "provenance": []
    },
    "kernelspec": {
      "name": "python3",
      "display_name": "Python 3"
    },
    "language_info": {
      "name": "python"
    }
  },
  "cells": [
    {
      "cell_type": "code",
      "execution_count": 8,
      "metadata": {
        "id": "OtP8ToyxXux-"
      },
      "outputs": [],
      "source": [
        "def car_list(new):\n",
        "#created headers from below code\n",
        "  with open(new,'w') as r:\n",
        "    r.write(f'ID,Model,Year,Owner\\n')\n",
        "car_list(\"cardata.csv\")\n",
        "#created new function which get the data\n",
        "#if write stop at id it will end loop\n",
        "\n",
        "def car_data(new):\n",
        "  while True:\n",
        "    ID=input(\"Enter Id: \")\n",
        "    if ID==\"stop\":\n",
        "      break\n",
        "    model=input(\"Enter Model: \")\n",
        "    year=input(\"Enter Year: \")\n",
        "    owner=input(\"Enter owner: \")\n",
        "    with open(new,'a') as d:\n",
        "     d.write(f'{ID}, {model}, {year}, {owner}\\n')\n",
        "car_data(\"cardata.csv\")"
      ]
    }
  ]
}